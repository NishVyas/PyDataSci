{
 "cells": [
  {
   "cell_type": "code",
   "execution_count": null,
   "metadata": {},
   "outputs": [],
   "source": [
    "# So far we have been discussing the basics of NumPy, now we will focus on computation of NumPy arrays\n",
    "# Coputation on NumPy arrays can be fast or slow, key for fast is to use vectorized operations through NumPy's universal functions\n",
    "# This sections motivates using these universal functions, which are used to make repeated calculations on array elements much more efficient\n",
    "# We will also go over most common/useful arithmetic ufuncs available in NumPy package"
   ]
  },
  {
   "cell_type": "code",
   "execution_count": 2,
   "metadata": {},
   "outputs": [
    {
     "data": {
      "text/plain": [
       "array([0.16666667, 1.        , 0.25      , 0.25      , 0.125     ])"
      ]
     },
     "execution_count": 2,
     "metadata": {},
     "output_type": "execute_result"
    }
   ],
   "source": [
    "# Python's lack of performance usually shows when many small operations are being repeated\n",
    "# Ex. Looping over arrays to operate on each element\n",
    "# Ex. We have an array of values we'd like to compute the reciprocal (1 divided by value) of each\n",
    "# One approach can be like below:\n",
    "import numpy as np\n",
    "np.random.seed(0)\n",
    "\n",
    "def compute_reciprocals(values):\n",
    "    output = np.empty(len(values))\n",
    "    for i in range(len(values)):\n",
    "        output[i] = 1.0 / values[i]\n",
    "    return output\n",
    "\n",
    "values = np.random.randint(1, 10, size=5)\n",
    "compute_reciprocals(values)"
   ]
  },
  {
   "cell_type": "code",
   "execution_count": 6,
   "metadata": {},
   "outputs": [
    {
     "name": "stdout",
     "output_type": "stream",
     "text": [
      "10 loops, best of 3: 142 ms per loop\n"
     ]
    }
   ],
   "source": [
    "# Above looks normal for someone in Java or C\n",
    "# But measuring execution time of this code for large input tells us its pretty slow\n",
    "big_array = np.random.randint(1, 100, size=1000000)\n",
    "%timeit compute_reciprocals(big_array)"
   ]
  },
  {
   "cell_type": "code",
   "execution_count": null,
   "metadata": {},
   "outputs": [],
   "source": [
    "# As we can see, it takes several milliseconds to compute million operations and store the result\n",
    "# Bottleneck is not the operations, but type-checking and function dispatches that CPython must do to each cycle of the loop\n",
    "# Each time reciprocal is computed, Python examines object's type and then does a dynamic lookup of the correct function to use for that type"
   ]
  },
  {
   "cell_type": "code",
   "execution_count": 7,
   "metadata": {},
   "outputs": [
    {
     "name": "stdout",
     "output_type": "stream",
     "text": [
      "[0.16666667 1.         0.25       0.25       0.125     ]\n",
      "[0.16666667 1.         0.25       0.25       0.125     ]\n"
     ]
    }
   ],
   "source": [
    "# NumPy provides convenient interface into just this kind of statically typed/ compiled routine\n",
    "# Known as a vectorized operation and is accomplished simply by performing an operation on the array which is then applied to each element\n",
    "# This approach is designed to push the loop into the compiled layer that underlies NumPy\n",
    "# Lets compare the 2 results below\n",
    "print(compute_reciprocals(values))\n",
    "print(1.0 / values)"
   ]
  },
  {
   "cell_type": "code",
   "execution_count": 8,
   "metadata": {},
   "outputs": [
    {
     "name": "stdout",
     "output_type": "stream",
     "text": [
      "100 loops, best of 3: 2.96 ms per loop\n"
     ]
    }
   ],
   "source": [
    "%timeit (1.0 / big_array)"
   ]
  },
  {
   "cell_type": "code",
   "execution_count": 10,
   "metadata": {},
   "outputs": [
    {
     "data": {
      "text/plain": [
       "array([0, 0, 0, 0, 0])"
      ]
     },
     "execution_count": 10,
     "metadata": {},
     "output_type": "execute_result"
    }
   ],
   "source": [
    "# As we can see, this method is MUCH faster than the method we use\n",
    "# Vectorized operations in NumPy are implemented via ufuncs\n",
    "# ufuncs main purpose is to quickly execute repeated operations on values in NumPy arrays\n",
    "# We did operations with a scalar and an array, but we can operate between two arrays as well\n",
    "np.arange(5) / np.arange(1, 6)"
   ]
  }
 ],
 "metadata": {
  "kernelspec": {
   "display_name": "Python 2",
   "language": "python",
   "name": "python2"
  },
  "language_info": {
   "codemirror_mode": {
    "name": "ipython",
    "version": 2
   },
   "file_extension": ".py",
   "mimetype": "text/x-python",
   "name": "python",
   "nbconvert_exporter": "python",
   "pygments_lexer": "ipython2",
   "version": "2.7.15"
  }
 },
 "nbformat": 4,
 "nbformat_minor": 2
}

{
 "cells": [
  {
   "cell_type": "code",
   "execution_count": 1,
   "metadata": {},
   "outputs": [
    {
     "name": "stdout",
     "output_type": "stream",
     "text": [
      "[51 92 14 71 60 20 82 86 74 74]\n"
     ]
    }
   ],
   "source": [
    "# In previous section we saw how to access/modify portions of arrays\n",
    "# Ex. arr[0], arr[:5], arr[arr > 0]\n",
    "# This section will cover another style called fancy indexing\n",
    "# Similar to the simple indexing we have seen, but we pass arrays of indicies in place of single scalars\n",
    "# Allows us to very quickly access/modify complicated subsets of an array's values\n",
    "import numpy as np\n",
    "rand = np.random.RandomState(42)\n",
    "x = rand.randint(100, size=10)\n",
    "print(x)"
   ]
  },
  {
   "cell_type": "code",
   "execution_count": 2,
   "metadata": {},
   "outputs": [
    {
     "data": {
      "text/plain": [
       "[71, 86, 14]"
      ]
     },
     "execution_count": 2,
     "metadata": {},
     "output_type": "execute_result"
    }
   ],
   "source": [
    "# Considering the above array, suppose we want to access 3 different elements\n",
    "# We could do it like this:\n",
    "[x[3], x[7], x[2]]"
   ]
  },
  {
   "cell_type": "code",
   "execution_count": 3,
   "metadata": {},
   "outputs": [
    {
     "data": {
      "text/plain": [
       "array([71, 86, 60])"
      ]
     },
     "execution_count": 3,
     "metadata": {},
     "output_type": "execute_result"
    }
   ],
   "source": [
    "# Or, we can pass a single list or array of indicies to get the same result\n",
    "ind = [3, 7, 4]\n",
    "x[ind]"
   ]
  },
  {
   "cell_type": "code",
   "execution_count": 4,
   "metadata": {},
   "outputs": [
    {
     "data": {
      "text/plain": [
       "array([[71, 86],\n",
       "       [60, 20]])"
      ]
     },
     "execution_count": 4,
     "metadata": {},
     "output_type": "execute_result"
    }
   ],
   "source": [
    "# With fancy indexing, shape of the result reflects the shape of the INDEX ARRAYS rather than the shape of the ARRAY BEING INDEXED\n",
    "ind = np.array([[3, 7],\n",
    "                [4, 5]])\n",
    "x[ind]"
   ]
  },
  {
   "cell_type": "code",
   "execution_count": 5,
   "metadata": {},
   "outputs": [
    {
     "data": {
      "text/plain": [
       "array([[ 0,  1,  2,  3],\n",
       "       [ 4,  5,  6,  7],\n",
       "       [ 8,  9, 10, 11]])"
      ]
     },
     "execution_count": 5,
     "metadata": {},
     "output_type": "execute_result"
    }
   ],
   "source": [
    "# Fancy indexing also works in multi-D\n",
    "X = np.arange(12).reshape((3, 4))\n",
    "X"
   ]
  },
  {
   "cell_type": "code",
   "execution_count": 6,
   "metadata": {},
   "outputs": [
    {
     "data": {
      "text/plain": [
       "array([ 2,  5, 11])"
      ]
     },
     "execution_count": 6,
     "metadata": {},
     "output_type": "execute_result"
    }
   ],
   "source": [
    "# Like with standard indexing, the first index refers to the row and the second to the column\n",
    "row = np.array([0, 1, 2])\n",
    "col = np.array([2, 1, 3])\n",
    "X[row, col]"
   ]
  },
  {
   "cell_type": "code",
   "execution_count": null,
   "metadata": {},
   "outputs": [],
   "source": [
    "# The first element is X[0, 2], 2nd is X[1, 1], and the 3rd is X[2, 3]"
   ]
  },
  {
   "cell_type": "code",
   "execution_count": 8,
   "metadata": {},
   "outputs": [
    {
     "name": "stdout",
     "output_type": "stream",
     "text": [
      "[[ 0  1  2  3]\n",
      " [ 4  5  6  7]\n",
      " [ 8  9 10 11]]\n"
     ]
    }
   ],
   "source": [
    "# For more powerful operations, fancy indexing can be combined with other indexing schemes\n",
    "print(X)"
   ]
  },
  {
   "cell_type": "code",
   "execution_count": 9,
   "metadata": {},
   "outputs": [
    {
     "data": {
      "text/plain": [
       "array([10,  8,  9])"
      ]
     },
     "execution_count": 9,
     "metadata": {},
     "output_type": "execute_result"
    }
   ],
   "source": [
    "# We can combine fancy and simple indicies\n",
    "X[2, [2, 0, 1]]"
   ]
  },
  {
   "cell_type": "code",
   "execution_count": 10,
   "metadata": {},
   "outputs": [
    {
     "data": {
      "text/plain": [
       "array([[ 6,  4,  5],\n",
       "       [10,  8,  9]])"
      ]
     },
     "execution_count": 10,
     "metadata": {},
     "output_type": "execute_result"
    }
   ],
   "source": [
    "# Here, its X[2, 2], X[2, 0], and X[2, 1]\n",
    "# We can also combine fancy indexing with slicing\n",
    "X[1:, [2, 0, 1]]"
   ]
  },
  {
   "cell_type": "code",
   "execution_count": 11,
   "metadata": {},
   "outputs": [
    {
     "data": {
      "text/plain": [
       "array([[ 0,  2],\n",
       "       [ 4,  6],\n",
       "       [ 8, 10]])"
      ]
     },
     "execution_count": 11,
     "metadata": {},
     "output_type": "execute_result"
    }
   ],
   "source": [
    "# Here, its X[1, 2], X[1, 0], X[1, 1]\n",
    "#           X[2, 2], X[2, 0], X[2, 1]\n",
    "# And we can combine fancy indexing with masking\n",
    "mask = np.array([1, 0, 1, 0], dtype=bool)\n",
    "X[row[:, np.newaxis], mask]"
   ]
  },
  {
   "cell_type": "code",
   "execution_count": 12,
   "metadata": {},
   "outputs": [
    {
     "data": {
      "text/plain": [
       "(100L, 2L)"
      ]
     },
     "execution_count": 12,
     "metadata": {},
     "output_type": "execute_result"
    }
   ],
   "source": [
    "# Ex. Selecting random points\n",
    "# Common use of fancy indexing is the selection of subsets of rows from a matrix\n",
    "# For example, might have N x D matrix (N=points in D dimensions) such as the following points drawn from a 2D normal distribution below\n",
    "mean = [0, 0]\n",
    "cov = [[1, 2],\n",
    "       [2, 5]]\n",
    "X = rand.multivariate_normal(mean, cov, 100)\n",
    "X.shape"
   ]
  },
  {
   "cell_type": "code",
   "execution_count": 13,
   "metadata": {},
   "outputs": [
    {
     "data": {
      "image/png": "[encoded data removed]",
      "text/plain": [
       "<Figure size 432x288 with 1 Axes>"
      ]
     },
     "metadata": {},
     "output_type": "display_data"
    }
   ],
   "source": [
    "# Using plotting tools we will discuss later, we can visualize these points as a scatter plot\n",
    "%matplotlib inline\n",
    "import matplotlib.pyplot as plt\n",
    "import seaborn; seaborn.set()\n",
    "plt.scatter(X[:, 0], X[:, 1]);"
   ]
  },
  {
   "cell_type": "code",
   "execution_count": 16,
   "metadata": {},
   "outputs": [
    {
     "data": {
      "text/plain": [
       "array([38, 53, 16, 22, 36, 78, 57, 72,  4, 54, 21, 23, 34, 89, 43, 69, 24,\n",
       "       65, 87, 81], dtype=int64)"
      ]
     },
     "execution_count": 16,
     "metadata": {},
     "output_type": "execute_result"
    }
   ],
   "source": [
    "# Lets use fancy indexing to select 20 random points \n",
    "# We will do this by first choosing 20 random indicies with no repeats and use these indicies to select a portion or the original array\n",
    "indicies = np.random.choice(X.shape[0], 20, replace=False)\n",
    "indicies"
   ]
  },
  {
   "cell_type": "code",
   "execution_count": 17,
   "metadata": {},
   "outputs": [
    {
     "data": {
      "text/plain": [
       "(20L, 2L)"
      ]
     },
     "execution_count": 17,
     "metadata": {},
     "output_type": "execute_result"
    }
   ],
   "source": [
    "selection = X[indicies] # Fancy indexing used here\n",
    "selection.shape"
   ]
  },
  {
   "cell_type": "code",
   "execution_count": 42,
   "metadata": {},
   "outputs": [
    {
     "data": {
      "image/png": "[encoded data removed]",
      "text/plain": [
       "<Figure size 432x288 with 1 Axes>"
      ]
     },
     "metadata": {
      "needs_background": "light"
     },
     "output_type": "display_data"
    }
   ],
   "source": [
    "# Now, to see which points were selected, let's over-plot large circles at the locations of the selected points\n",
    "plt.scatter(X[:, 0], X[:, 1], alpha=0.3)\n",
    "plt.scatter(selection[:, 0], selection[:, 1], edgecolors='none', s=50);"
   ]
  },
  {
   "cell_type": "code",
   "execution_count": null,
   "metadata": {},
   "outputs": [],
   "source": [
    "# This technique is often used to quickly partition datasets\n",
    "# Often needed in train/test splitting for validation of statistical models"
   ]
  },
  {
   "cell_type": "code",
   "execution_count": 43,
   "metadata": {},
   "outputs": [
    {
     "name": "stdout",
     "output_type": "stream",
     "text": [
      "[ 0 99 99  3 99  5  6  7 99  9]\n"
     ]
    }
   ],
   "source": [
    "# Fancy indexing can also be used to modify parts of an array\n",
    "# Ex. Imagine we have an array of indicies and we'd like to set the corresponding items in an array to some value\n",
    "x = np.arange(10)\n",
    "i = np.array([2, 1, 8, 4])\n",
    "x[i] = 99\n",
    "print(x)"
   ]
  },
  {
   "cell_type": "code",
   "execution_count": 44,
   "metadata": {},
   "outputs": [
    {
     "name": "stdout",
     "output_type": "stream",
     "text": [
      "[ 0 89 89  3 89  5  6  7 89  9]\n"
     ]
    }
   ],
   "source": [
    "# We can use any assignment type operator for this:\n",
    "x[i] -= 10\n",
    "print(x)"
   ]
  },
  {
   "cell_type": "code",
   "execution_count": 45,
   "metadata": {},
   "outputs": [
    {
     "name": "stdout",
     "output_type": "stream",
     "text": [
      "[6. 0. 0. 0. 0. 0. 0. 0. 0. 0.]\n"
     ]
    }
   ],
   "source": [
    "# Although, repeated indicies with these operations can cause some potentially unexpected results:\n",
    "x = np.zeros(10)\n",
    "x[[0, 0]] = [4, 6]\n",
    "print(x)"
   ]
  },
  {
   "cell_type": "code",
   "execution_count": 46,
   "metadata": {},
   "outputs": [
    {
     "data": {
      "text/plain": [
       "array([6., 0., 1., 1., 1., 0., 0., 0., 0., 0.])"
      ]
     },
     "execution_count": 46,
     "metadata": {},
     "output_type": "execute_result"
    }
   ],
   "source": [
    "# A we can see the 4 dissappeared\n",
    "# This operation first assigns x[0] = 4, then assisgns x[0] = 6, resulting in x[0] having 6 as its value\n",
    "# Now consider this operation:\n",
    "i = [2, 3, 3, 4, 4, 4]\n",
    "x[i] += 1\n",
    "x"
   ]
  },
  {
   "cell_type": "code",
   "execution_count": 48,
   "metadata": {},
   "outputs": [
    {
     "name": "stdout",
     "output_type": "stream",
     "text": [
      "[0. 0. 1. 2. 3. 0. 0. 0. 0. 0.]\n"
     ]
    }
   ],
   "source": [
    "# We might expect x[3] = 2 and x[4] = 3 since this is how many times its repeated\n",
    "# This is not the case since conceptually x[i] += 1 is meant as a shorthand for x[i] = x[i] + 1\n",
    "# x[i] + 1 is evaluated, and then the result is assigned to the indicies in x\n",
    "# So basically, all the computations are done FIRST and THEN assigned to the indicies\n",
    "# Therefore, it is not the augmentation that happens multiple times, bu the assignment itself, leading to nonintuitive results\n",
    "# If we want the other behaviour, we can use the at() methodof ufuncs:\n",
    "x = np.zeros(10)\n",
    "np.add.at(x, i, 1)\n",
    "print(x)"
   ]
  },
  {
   "cell_type": "code",
   "execution_count": null,
   "metadata": {},
   "outputs": [],
   "source": [
    "# This method does an in-place application of the given operator at the specified indicies (i) with the specified value (1)"
   ]
  },
  {
   "cell_type": "code",
   "execution_count": 53,
   "metadata": {},
   "outputs": [
    {
     "data": {
      "text/plain": [
       "[<matplotlib.lines.Line2D at 0xcca1438>]"
      ]
     },
     "execution_count": 53,
     "metadata": {},
     "output_type": "execute_result"
    },
    {
     "data": {
      "image/png": "[encoded data removed]",
      "text/plain": [
       "<Figure size 432x288 with 1 Axes>"
      ]
     },
     "metadata": {
      "needs_background": "light"
     },
     "output_type": "display_data"
    }
   ],
   "source": [
    "# Ex. Binning Data\n",
    "# Can use these ideas to efficiently bin data to create a histogram by hand\n",
    "# Ex. We have 1000 values and would like to quickly find where they fall within an array of bins\n",
    "\n",
    "# Could compute using a ufunc.at like this:\n",
    "np.random.seed(42)\n",
    "x = np.random.randn(100) # Here we return 100 random floats from a univariate normal dist. with mean 0 and variance 1\n",
    "\n",
    "# Compute histogram by hand\n",
    "bins = np.linspace(-5, 5, 20) # Here we create 20 evenly spaced out numbers from -5 to 5\n",
    "counts = np.zeros_like(bins) # Here, we create an array of zeros the same size as bins\n",
    "\n",
    "# Find appropriate bin for each x\n",
    "i = np.searchsorted(bins, x)\n",
    "\n",
    "# Add 1 to each of these bins\n",
    "np.add.at(counts, i, 1)\n",
    "\n",
    "# The count now reflect the number of points within each bin, in other words a histogram\n",
    "plt.plot(bins, counts, linestyle='steps')"
   ]
  },
  {
   "cell_type": "code",
   "execution_count": 54,
   "metadata": {},
   "outputs": [
    {
     "name": "stdout",
     "output_type": "stream",
     "text": [
      "NumPy routine: \n",
      "The slowest run took 76.59 times longer than the fastest. This could mean that an intermediate result is being cached.\n",
      "100000 loops, best of 3: 15.2 µs per loop\n",
      "Custom routine: \n",
      "The slowest run took 4.84 times longer than the fastest. This could mean that an intermediate result is being cached.\n",
      "100000 loops, best of 3: 9.62 µs per loop\n"
     ]
    }
   ],
   "source": [
    "# Of course, it would be silly to do this each time that you want to plot a histogram\n",
    "# This is why Matplotlib uses the np.histogram function which does a very similar computation\n",
    "# Lets compare the 2 ways:\n",
    "print(\"NumPy routine: \")\n",
    "%timeit counts, edges = np.histogram(x, bins)\n",
    "print(\"Custom routine: \")\n",
    "%timeit np.add.at(counts, np.searchsorted(bins, x), 1)"
   ]
  },
  {
   "cell_type": "code",
   "execution_count": 55,
   "metadata": {},
   "outputs": [
    {
     "name": "stdout",
     "output_type": "stream",
     "text": [
      "NumPy routine: \n",
      "10 loops, best of 3: 50.7 ms per loop\n",
      "Custom routine: \n",
      "10 loops, best of 3: 82.7 ms per loop\n"
     ]
    }
   ],
   "source": [
    "# Our own one-line algorithm is faster than the optimized algorithm in NumPy\n",
    "# Why? Well, if we dig into np.histogram source code, its quite a bit more involved than a simple search-and-count that we have done\n",
    "# This is because NumPy's algorithm is more flexible and is designed for better performance with big data sets\n",
    "x = np.random.randn(1000000)\n",
    "print(\"NumPy routine: \")\n",
    "%timeit counts, edges = np.histogram(x, bins)\n",
    "print(\"Custom routine: \")\n",
    "%timeit np.add.at(counts, np.searchsorted(bins, x), 1)"
   ]
  },
  {
   "cell_type": "code",
   "execution_count": null,
   "metadata": {},
   "outputs": [],
   "source": [
    "# This shows that algorithm efficiency is almost never a simple question\n",
    "# Algorithm efficient for large datasets will not always be the best choice for small data sets and vice versa\n",
    "# Advantage of coding the algorithm ourselves is that with an understanding of the basic methods, we could use these building blocks to extend this to do some very interesting custom behaviours\n",
    "# Key to using Python in data-intensive applications is knowing about general convenience routines like np.histogram and when they are appropriate\n",
    "# Also knowing how to make use of lower level functionality when you need more pointed behaviour"
   ]
  }
 ],
 "metadata": {
  "kernelspec": {
   "display_name": "Python 2",
   "language": "python",
   "name": "python2"
  },
  "language_info": {
   "codemirror_mode": {
    "name": "ipython",
    "version": 2
   },
   "file_extension": ".py",
   "mimetype": "text/x-python",
   "name": "python",
   "nbconvert_exporter": "python",
   "pygments_lexer": "ipython2",
   "version": "2.7.15"
  }
 },
 "nbformat": 4,
 "nbformat_minor": 2
}

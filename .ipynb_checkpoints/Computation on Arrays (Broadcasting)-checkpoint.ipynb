{
 "cells": [
  {
   "cell_type": "code",
   "execution_count": 1,
   "metadata": {},
   "outputs": [
    {
     "data": {
      "text/plain": [
       "array([5, 6, 7])"
      ]
     },
     "execution_count": 1,
     "metadata": {},
     "output_type": "execute_result"
    }
   ],
   "source": [
    "# Previously seen how NumPy's ufuncs can be used to vectorize operations, as a result removing slow python loops\n",
    "# Another way to do this is to use NumPy's broadcasting functionality\n",
    "# Broadcasting is simply set of rules for applying binary ufuncs on arrays of different sizes\n",
    "# Recall that for arrays of same size, binary operations are performed on element-by-element basis\n",
    "import numpy as np\n",
    "a = np.array([0, 1, 2])\n",
    "b = np.array([5, 5, 5])\n",
    "a + b"
   ]
  },
  {
   "cell_type": "code",
   "execution_count": 2,
   "metadata": {},
   "outputs": [
    {
     "data": {
      "text/plain": [
       "array([5, 6, 7])"
      ]
     },
     "execution_count": 2,
     "metadata": {},
     "output_type": "execute_result"
    }
   ],
   "source": [
    "# Broadcasting allows these types of binary operations to be performed on arrays of different sizes\n",
    "# Ex. Adding a scalar to an array\n",
    "a + 5"
   ]
  },
  {
   "cell_type": "code",
   "execution_count": 3,
   "metadata": {},
   "outputs": [
    {
     "data": {
      "text/plain": [
       "array([[1., 1., 1.],\n",
       "       [1., 1., 1.],\n",
       "       [1., 1., 1.]])"
      ]
     },
     "execution_count": 3,
     "metadata": {},
     "output_type": "execute_result"
    }
   ],
   "source": [
    "# Basically, this operation stretches/duplicates the value 5 into the array [5, 5, 5] and adds the results\n",
    "# Advantage of NumPy's broadcasting is that the duplication of values does not actually take place\n",
    "# Can extend this to arrays of higher dimensions as well, like adding a 1D array to a 2D array\n",
    "M = np.ones((3, 3))\n",
    "M"
   ]
  },
  {
   "cell_type": "code",
   "execution_count": 4,
   "metadata": {},
   "outputs": [
    {
     "data": {
      "text/plain": [
       "array([[1., 2., 3.],\n",
       "       [1., 2., 3.],\n",
       "       [1., 2., 3.]])"
      ]
     },
     "execution_count": 4,
     "metadata": {},
     "output_type": "execute_result"
    }
   ],
   "source": [
    "M + a"
   ]
  },
  {
   "cell_type": "code",
   "execution_count": 5,
   "metadata": {},
   "outputs": [
    {
     "name": "stdout",
     "output_type": "stream",
     "text": [
      "[0 1 2]\n",
      "[[0]\n",
      " [1]\n",
      " [2]]\n"
     ]
    }
   ],
   "source": [
    "# Here, the 1D array a is stretched (or broadcast) across the second dimension in order to match shape of M\n",
    "# Farily simple to understand now, but gets more complicated when both arrays broadcast\n",
    "a = np.arange(3)\n",
    "b = np.arange(3)[:, np.newaxis]\n",
    "\n",
    "print(a)\n",
    "print(b)"
   ]
  },
  {
   "cell_type": "code",
   "execution_count": 6,
   "metadata": {},
   "outputs": [
    {
     "data": {
      "text/plain": [
       "array([[0, 1, 2],\n",
       "       [1, 2, 3],\n",
       "       [2, 3, 4]])"
      ]
     },
     "execution_count": 6,
     "metadata": {},
     "output_type": "execute_result"
    }
   ],
   "source": [
    "a + b"
   ]
  },
  {
   "cell_type": "code",
   "execution_count": null,
   "metadata": {},
   "outputs": [],
   "source": [
    "# Here, BOTH arrays broadcast to match a common shape\n",
    "# Here are some rules to follow for better understanding\n",
    "# Rule 1: If 2 arrays differ in dimension size, the one with the fewer dimensions is padded with ones on its leading side\n",
    "# Rule 2: If shape of 2 arrays does not match in any dimension, array with shape equal to 1 in that dimension is stretched to match the other shape\n",
    "# Rule 3: If in any dimension the sizes disagree and neither is equal to 1, error is raised"
   ]
  },
  {
   "cell_type": "code",
   "execution_count": 7,
   "metadata": {},
   "outputs": [
    {
     "data": {
      "text/plain": [
       "array([[1., 2., 3.],\n",
       "       [1., 2., 3.]])"
      ]
     },
     "execution_count": 7,
     "metadata": {},
     "output_type": "execute_result"
    }
   ],
   "source": [
    "# Lets make rules clear with examples\n",
    "# Lets add a 2D array to a 1D array\n",
    "M = np.ones((2, 3))\n",
    "a = np.arange(3)\n",
    "# Considering an operation on the array, we see the corresponding shapes:\n",
    "# M.shape = (2, 3)\n",
    "# a.shape = (3,)\n",
    "# By rule 1, array a has fewer dimesions, so we pad it on the left with ones\n",
    "# M.shape = (2, 3)\n",
    "# a.shape = (1, 3)\n",
    "# By rule 2, we see that the first dimension disagrees, so we stretch this dimension to match\n",
    "# M.shape = (2, 3)\n",
    "# a.shape = (2, 3)\n",
    "# The shapes match (2, 3)\n",
    "M + a"
   ]
  },
  {
   "cell_type": "code",
   "execution_count": 8,
   "metadata": {},
   "outputs": [
    {
     "data": {
      "text/plain": [
       "array([[0, 1, 2],\n",
       "       [1, 2, 3],\n",
       "       [2, 3, 4]])"
      ]
     },
     "execution_count": 8,
     "metadata": {},
     "output_type": "execute_result"
    }
   ],
   "source": [
    "# Lets look at an example where BOTH arrays need to be broadcast\n",
    "a = np.arange(3).reshape((3, 1))\n",
    "b = np.arange(3)\n",
    "# Lets write out the shapes:\n",
    "# a.shape = (3, 1)\n",
    "# b.shape = (3,)\n",
    "# Rule 1 says we pad the shape of b with ones\n",
    "# a.shape = (3, 1)\n",
    "# b.shape = (1, 3)\n",
    "# Rule 2 says we upgrade each one of these to match the corresponding size of the other array\n",
    "# a.shape = (3, 3)\n",
    "# b.shape = (3, 3)\n",
    "# Results match and shapes are compatible\n",
    "a + b"
   ]
  },
  {
   "cell_type": "code",
   "execution_count": 9,
   "metadata": {},
   "outputs": [
    {
     "ename": "ValueError",
     "evalue": "operands could not be broadcast together with shapes (3,2) (3,) ",
     "output_type": "error",
     "traceback": [
      "\u001b[1;31m---------------------------------------------------------------------------\u001b[0m",
      "\u001b[1;31mValueError\u001b[0m                                Traceback (most recent call last)",
      "\u001b[1;32m<ipython-input-9-6f188f91a9e4>\u001b[0m in \u001b[0;36m<module>\u001b[1;34m()\u001b[0m\n\u001b[0;32m     12\u001b[0m \u001b[1;31m# a.shape = (3, 3)\u001b[0m\u001b[1;33m\u001b[0m\u001b[1;33m\u001b[0m\u001b[0m\n\u001b[0;32m     13\u001b[0m \u001b[1;31m# Now we hit rule 3, final shapes do not match, therefore these arrays are not incompatible as observed by the error below\u001b[0m\u001b[1;33m\u001b[0m\u001b[1;33m\u001b[0m\u001b[0m\n\u001b[1;32m---> 14\u001b[1;33m \u001b[0mM\u001b[0m \u001b[1;33m+\u001b[0m \u001b[0ma\u001b[0m\u001b[1;33m\u001b[0m\u001b[0m\n\u001b[0m",
      "\u001b[1;31mValueError\u001b[0m: operands could not be broadcast together with shapes (3,2) (3,) "
     ]
    }
   ],
   "source": [
    "# Lets look at an example where 2 arrays are not compatible\n",
    "M = np.ones((3, 2))\n",
    "a = np.arange(3)\n",
    "# Shapes:\n",
    "# M.shape = (3, 2)\n",
    "# a.shape = (3,)\n",
    "# Rule 1 says pad shape a with ones on the left\n",
    "# M.shape = (3, 2)\n",
    "# a.shape = (1, 3)\n",
    "# Rule 2 says first dimension of a is stretched to match that of M:\n",
    "# M.shape = (3, 2)\n",
    "# a.shape = (3, 3)\n",
    "# Now we hit rule 3, final shapes do not match, therefore these arrays are not incompatible as observed by the error below\n",
    "M + a"
   ]
  },
  {
   "cell_type": "code",
   "execution_count": null,
   "metadata": {},
   "outputs": [],
   "source": [
    "# Note that these broadcasting rules apply to ANY binary ufunc"
   ]
  },
  {
   "cell_type": "code",
   "execution_count": null,
   "metadata": {},
   "outputs": [],
   "source": [
    "# Many different applications for broadcasting, lets take a look at 2 examples\n",
    "# Previously we saw that ufuncs allow a NumPy user to remove need to explicitly write slow Python loops\n",
    "# Broadcasting extends this ability "
   ]
  }
 ],
 "metadata": {
  "kernelspec": {
   "display_name": "Python 2",
   "language": "python",
   "name": "python2"
  },
  "language_info": {
   "codemirror_mode": {
    "name": "ipython",
    "version": 2
   },
   "file_extension": ".py",
   "mimetype": "text/x-python",
   "name": "python",
   "nbconvert_exporter": "python",
   "pygments_lexer": "ipython2",
   "version": "2.7.15"
  }
 },
 "nbformat": 4,
 "nbformat_minor": 2
}

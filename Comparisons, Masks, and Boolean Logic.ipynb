{
 "cells": [
  {
   "cell_type": "code",
   "execution_count": 26,
   "metadata": {},
   "outputs": [
    {
     "data": {
      "text/plain": [
       "(365L,)"
      ]
     },
     "execution_count": 26,
     "metadata": {},
     "output_type": "execute_result"
    }
   ],
   "source": [
    "# This section will go over Boolean masks to examine/manipulate values within NumPy arrays\n",
    "# Masking is used when you want to extract, modify, count, or otherwise manipulate values in an array based on some criterion\n",
    "# Ex. Imagine you have a series of data that represents amount of percipitation each day for a year for a given city\n",
    "# We will load daily rainfall stats for Seattle in 2014 using Pandas (which will be covered later on)\n",
    "import numpy as np\n",
    "import pandas as pd\n",
    "rainfall = pd.read_csv('data/Seattle2014.csv')['PRCP'].values\n",
    "inches = rainfall / 254.0\n",
    "inches.shape"
   ]
  },
  {
   "cell_type": "code",
   "execution_count": 27,
   "metadata": {},
   "outputs": [
    {
     "data": {
      "image/png": "[encoded data removed]",
      "text/plain": [
       "<Figure size 432x288 with 1 Axes>"
      ]
     },
     "metadata": {},
     "output_type": "display_data"
    }
   ],
   "source": [
    "# So we see that the array contains 365 values through the shape function\n",
    "# As a 1st quick glance, lets look at a histogram of rainy days generated by matplotlib\n",
    "%matplotlib inline\n",
    "import matplotlib.pyplot as plt\n",
    "import seaborn; seaborn.set()\n",
    "plt.hist(inches, 40);"
   ]
  },
  {
   "cell_type": "code",
   "execution_count": null,
   "metadata": {},
   "outputs": [],
   "source": [
    "# The histogram gives us a general idea of what the data looks like\n",
    "# Despite Seattle's reputation, the vast majority of days saw near 0 measured rainfall\n",
    "# However, this doesnt do a good job of conveying some information we might need\n",
    "# Ex. How many rainy days were there? Average percipitation of those rainy days?\n",
    "# One approach of answering these questions would be by hand:\n",
    "# Loop through the data, incrementing counter each time we see values in some desired range\n",
    "# For reasons discussed in previous sections, this is a very inefficient approach\n",
    "# We saw in ufuncs section that NumPy's ufuncs can replace loops to do fast element-wise arithmetic operations on arrays\n",
    "# Similarily, we can use ufuncs to do element-wise comparisions over arrays and manipulate results to get our answers\n",
    "# We will leave the data aside for now and talk about some general NumPy tools for masking and quickly anser these questions"
   ]
  },
  {
   "cell_type": "code",
   "execution_count": 3,
   "metadata": {},
   "outputs": [
    {
     "data": {
      "text/plain": [
       "array([ True,  True, False, False, False])"
      ]
     },
     "execution_count": 3,
     "metadata": {},
     "output_type": "execute_result"
    }
   ],
   "source": [
    "# We have already seen +, -, /, * as arithmetic ufunc operators\n",
    "# We can also use NumPy's < (less than) and > (greater than) comparison operators\n",
    "# The result of these operations is always an array with a Boolean data type\n",
    "# All 6 standard comparison operators are available\n",
    "x = np.array([1, 2, 3, 4, 5])\n",
    "x < 3"
   ]
  },
  {
   "cell_type": "code",
   "execution_count": 4,
   "metadata": {},
   "outputs": [
    {
     "data": {
      "text/plain": [
       "array([False, False, False,  True,  True])"
      ]
     },
     "execution_count": 4,
     "metadata": {},
     "output_type": "execute_result"
    }
   ],
   "source": [
    "x > 3"
   ]
  },
  {
   "cell_type": "code",
   "execution_count": 5,
   "metadata": {},
   "outputs": [
    {
     "data": {
      "text/plain": [
       "array([ True,  True,  True, False, False])"
      ]
     },
     "execution_count": 5,
     "metadata": {},
     "output_type": "execute_result"
    }
   ],
   "source": [
    "x <= 3"
   ]
  },
  {
   "cell_type": "code",
   "execution_count": 6,
   "metadata": {},
   "outputs": [
    {
     "data": {
      "text/plain": [
       "array([False, False,  True,  True,  True])"
      ]
     },
     "execution_count": 6,
     "metadata": {},
     "output_type": "execute_result"
    }
   ],
   "source": [
    "x >= 3"
   ]
  },
  {
   "cell_type": "code",
   "execution_count": 8,
   "metadata": {},
   "outputs": [
    {
     "data": {
      "text/plain": [
       "array([ True,  True, False,  True,  True])"
      ]
     },
     "execution_count": 8,
     "metadata": {},
     "output_type": "execute_result"
    }
   ],
   "source": [
    "x != 3"
   ]
  },
  {
   "cell_type": "code",
   "execution_count": 9,
   "metadata": {},
   "outputs": [
    {
     "data": {
      "text/plain": [
       "array([False, False,  True, False, False])"
      ]
     },
     "execution_count": 9,
     "metadata": {},
     "output_type": "execute_result"
    }
   ],
   "source": [
    "x == 3"
   ]
  },
  {
   "cell_type": "code",
   "execution_count": 10,
   "metadata": {},
   "outputs": [
    {
     "data": {
      "text/plain": [
       "array([False,  True, False, False, False])"
      ]
     },
     "execution_count": 10,
     "metadata": {},
     "output_type": "execute_result"
    }
   ],
   "source": [
    "# Also possible to do element-by-element comparison of 2 arrays \n",
    "(2 * x) == (x ** 2)"
   ]
  },
  {
   "cell_type": "code",
   "execution_count": 11,
   "metadata": {},
   "outputs": [
    {
     "data": {
      "text/plain": [
       "array([[5, 0, 3, 3],\n",
       "       [7, 9, 3, 5],\n",
       "       [2, 4, 7, 6]])"
      ]
     },
     "execution_count": 11,
     "metadata": {},
     "output_type": "execute_result"
    }
   ],
   "source": [
    "# As in the case of arithmetic operators, comparison operators are also implemented as ufuncs in NumPy\n",
    "# Ex. np.less(x, 3) is internally used when you write x < 3\n",
    "# As with the case of arithmetic ufuncs, these will work on arrays of any size and shape\n",
    "rng = np.random.RandomState(0)\n",
    "x = rng.randint(10, size=(3, 4))\n",
    "x"
   ]
  },
  {
   "cell_type": "code",
   "execution_count": 12,
   "metadata": {},
   "outputs": [
    {
     "data": {
      "text/plain": [
       "array([[ True,  True,  True,  True],\n",
       "       [False, False,  True,  True],\n",
       "       [ True,  True, False, False]])"
      ]
     },
     "execution_count": 12,
     "metadata": {},
     "output_type": "execute_result"
    }
   ],
   "source": [
    "x < 6"
   ]
  },
  {
   "cell_type": "code",
   "execution_count": 13,
   "metadata": {},
   "outputs": [
    {
     "name": "stdout",
     "output_type": "stream",
     "text": [
      "[[5 0 3 3]\n",
      " [7 9 3 5]\n",
      " [2 4 7 6]]\n"
     ]
    }
   ],
   "source": [
    "# Given a boolean array, you can use a bunch of useful operations\n",
    "# Lets work with x\n",
    "print(x)"
   ]
  },
  {
   "cell_type": "code",
   "execution_count": 14,
   "metadata": {},
   "outputs": [
    {
     "data": {
      "text/plain": [
       "8"
      ]
     },
     "execution_count": 14,
     "metadata": {},
     "output_type": "execute_result"
    }
   ],
   "source": [
    "# To count the number of TRUE entries in a Boolean array, np.coun_nonzero is useful\n",
    "# Ex. How many values less than 6?\n",
    "np.count_nonzero(x < 6)"
   ]
  },
  {
   "cell_type": "code",
   "execution_count": 15,
   "metadata": {},
   "outputs": [
    {
     "data": {
      "text/plain": [
       "8"
      ]
     },
     "execution_count": 15,
     "metadata": {},
     "output_type": "execute_result"
    }
   ],
   "source": [
    "# There are 8 entries less than 6\n",
    "# Another way to get this answer is to use np.sum\n",
    "# False is interpreted as 0 and True is interpreted as 1\n",
    "np.sum(x < 6)"
   ]
  },
  {
   "cell_type": "code",
   "execution_count": 16,
   "metadata": {},
   "outputs": [
    {
     "data": {
      "text/plain": [
       "array([4, 2, 2])"
      ]
     },
     "execution_count": 16,
     "metadata": {},
     "output_type": "execute_result"
    }
   ],
   "source": [
    "# Benefit of sum() is that like with other NumPy aggregation functions, summation can be done along rows and columns as well\n",
    "# Ex. How many values less than 6 in each row?\n",
    "np.sum(x < 6, axis=1)"
   ]
  },
  {
   "cell_type": "code",
   "execution_count": 17,
   "metadata": {},
   "outputs": [
    {
     "data": {
      "text/plain": [
       "True"
      ]
     },
     "execution_count": 17,
     "metadata": {},
     "output_type": "execute_result"
    }
   ],
   "source": [
    "# If interested in quickly checking whether any or all values are true, we can use np.any() or np.all()\n",
    "# Ex. Any values greater than 8?\n",
    "np.any(x > 8)"
   ]
  },
  {
   "cell_type": "code",
   "execution_count": 18,
   "metadata": {},
   "outputs": [
    {
     "data": {
      "text/plain": [
       "False"
      ]
     },
     "execution_count": 18,
     "metadata": {},
     "output_type": "execute_result"
    }
   ],
   "source": [
    "# Any values less than 0?\n",
    "np.any(x < 0)"
   ]
  },
  {
   "cell_type": "code",
   "execution_count": 19,
   "metadata": {},
   "outputs": [
    {
     "data": {
      "text/plain": [
       "True"
      ]
     },
     "execution_count": 19,
     "metadata": {},
     "output_type": "execute_result"
    }
   ],
   "source": [
    "# All values less than 10?\n",
    "np.all(x < 10)"
   ]
  },
  {
   "cell_type": "code",
   "execution_count": 20,
   "metadata": {},
   "outputs": [
    {
     "data": {
      "text/plain": [
       "False"
      ]
     },
     "execution_count": 20,
     "metadata": {},
     "output_type": "execute_result"
    }
   ],
   "source": [
    "# All values equal to 6?\n",
    "np.all(x == 6)"
   ]
  },
  {
   "cell_type": "code",
   "execution_count": 21,
   "metadata": {},
   "outputs": [
    {
     "data": {
      "text/plain": [
       "array([ True, False,  True])"
      ]
     },
     "execution_count": 21,
     "metadata": {},
     "output_type": "execute_result"
    }
   ],
   "source": [
    "# All values in each row less than 8?\n",
    "np.all(x < 8, axis=1)"
   ]
  },
  {
   "cell_type": "code",
   "execution_count": null,
   "metadata": {},
   "outputs": [],
   "source": [
    "# IMPORTANT NOTE:\n",
    "# Python has built-in sum(), any(), and all() functions\n",
    "# These have different syntax than the NumPy versions and will fail or produce unintended results when used on multi-D arrays\n",
    "# Make sure to use np.sum(), np.any(), np.all() for these examples"
   ]
  },
  {
   "cell_type": "code",
   "execution_count": 28,
   "metadata": {},
   "outputs": [
    {
     "data": {
      "text/plain": [
       "29"
      ]
     },
     "execution_count": 28,
     "metadata": {},
     "output_type": "execute_result"
    }
   ],
   "source": [
    "# Already know how to count days with less rain less than four inches\n",
    "# What if want to know about all days with rain less than four inches and greater than 1 inch?\n",
    "# We can do this with python's bitwise logic operators &, |, ^, and ~\n",
    "# Like with standard arithmetic operators, NumPy overloads these as ufuncs that work element-wise on Boolean arrays\n",
    "# We can address the question asked earlier like this:\n",
    "np.sum((inches > 0.5) & (inches < 1))"
   ]
  },
  {
   "cell_type": "code",
   "execution_count": 35,
   "metadata": {},
   "outputs": [
    {
     "name": "stdout",
     "output_type": "stream",
     "text": [
      "('Number of days without rain:            ', 215)\n",
      "('Number of days with rain:               ', 150)\n",
      "('Days with more than 0.5 inches:         ', 37)\n",
      "('Rainy days with < 0.1 inches:           ', 46)\n"
     ]
    }
   ],
   "source": [
    "# So we see here that there are 29 days with rainfall between 0.5 and 1.0 inches\n",
    "# Using these toold we can answer types of questions we have about our weather data\n",
    "print(\"Number of days without rain:            \", np.sum(inches == 0))\n",
    "print(\"Number of days with rain:               \", np.sum(inches != 0))\n",
    "print(\"Days with more than 0.5 inches:         \", np.sum(inches > 0.5))\n",
    "print(\"Rainy days with < 0.1 inches:           \", np.sum((inches != 0) & (inches < 0.1)))"
   ]
  },
  {
   "cell_type": "code",
   "execution_count": 36,
   "metadata": {},
   "outputs": [
    {
     "data": {
      "text/plain": [
       "array([[5, 0, 3, 3],\n",
       "       [7, 9, 3, 5],\n",
       "       [2, 4, 7, 6]])"
      ]
     },
     "execution_count": 36,
     "metadata": {},
     "output_type": "execute_result"
    }
   ],
   "source": [
    "# Previously, we looked at aggregates computed directly on Boolean arrays\n",
    "# More powerful pattern is to use Boolean arrays as masks to select subsets of data themselves\n",
    "# Returning to x array from before, lets say we want an array of all values in the array that are less than 5\n",
    "x"
   ]
  },
  {
   "cell_type": "code",
   "execution_count": 37,
   "metadata": {},
   "outputs": [
    {
     "data": {
      "text/plain": [
       "array([[False,  True,  True,  True],\n",
       "       [False, False,  True, False],\n",
       "       [ True,  True, False, False]])"
      ]
     },
     "execution_count": 37,
     "metadata": {},
     "output_type": "execute_result"
    }
   ],
   "source": [
    "# We can obtain a Boolean array for this condition easily\n",
    "x < 5"
   ]
  },
  {
   "cell_type": "code",
   "execution_count": 38,
   "metadata": {},
   "outputs": [
    {
     "data": {
      "text/plain": [
       "array([0, 3, 3, 3, 2, 4])"
      ]
     },
     "execution_count": 38,
     "metadata": {},
     "output_type": "execute_result"
    }
   ],
   "source": [
    "# To SELECT these values from the array, we can simply index on this Boolean array\n",
    "# This is known as a masking operation\n",
    "x[x < 5]"
   ]
  },
  {
   "cell_type": "code",
   "execution_count": 53,
   "metadata": {},
   "outputs": [
    {
     "name": "stdout",
     "output_type": "stream",
     "text": [
      "('Median precip on rainy days in 2014 (inches):     ', 0.19488188976377951)\n",
      "('Median precip on summer days in 2014 (inches):    ', 0.0)\n",
      "('Maximum precip on summer days in 2014 (inches):   ', 0.8503937007874016)\n",
      "('Median precip on non-summer rainy days (inches:)  ', 0.20078740157480315)\n"
     ]
    }
   ],
   "source": [
    "# What is returned is a 1D array with all the values that meet this condition\n",
    "# We are then free to operate on these values as we wish\n",
    "# Ex. we can compute some relevant statistics on our Seattle rain data\n",
    "\n",
    "# Lets construct a mask of all rainy days\n",
    "rainy = (inches > 0)\n",
    "# So now we have a Boolean array of all days in 2014 when it was rainy \n",
    "\n",
    "# Lets construct a mask of all summer days (June 21st is the 172nd day)\n",
    "summer = (np.arange(365) - 172 < 90) & (np.arange(365) - 172 > 0)\n",
    "# We now have a Boolean array of all days that are Summer\n",
    "\n",
    "print(\"Median precip on rainy days in 2014 (inches):     \", np.median(inches[rainy]))\n",
    "print(\"Median precip on summer days in 2014 (inches):    \", np.median(inches[summer]))\n",
    "print(\"Maximum precip on summer days in 2014 (inches):   \", np.max(inches[summer]))\n",
    "print(\"Median precip on non-summer rainy days (inches:)  \", np.median(inches[rainy & ~summer]))"
   ]
  },
  {
   "cell_type": "code",
   "execution_count": null,
   "metadata": {},
   "outputs": [],
   "source": [
    "# NOTE: When we write inches[rainy], we are using a masking operation\n",
    "# We select values form the inches array that satisfy the boolean expression by indexing using rainy"
   ]
  },
  {
   "cell_type": "code",
   "execution_count": null,
   "metadata": {},
   "outputs": [],
   "source": [
    "# NOTE: 'and' and 'or' perform a single Boolean evaluation on an entire object\n",
    "# $ and | perform multiple Boolean evaluations on the content (individual bits or bytes) of an object\n",
    "# For Boolean NumPy arrays, the latter is nearly always the desired operation"
   ]
  }
 ],
 "metadata": {
  "kernelspec": {
   "display_name": "Python 2",
   "language": "python",
   "name": "python2"
  },
  "language_info": {
   "codemirror_mode": {
    "name": "ipython",
    "version": 2
   },
   "file_extension": ".py",
   "mimetype": "text/x-python",
   "name": "python",
   "nbconvert_exporter": "python",
   "pygments_lexer": "ipython2",
   "version": "2.7.15"
  }
 },
 "nbformat": 4,
 "nbformat_minor": 2
}
